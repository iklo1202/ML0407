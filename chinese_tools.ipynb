{
 "cells": [
  {
   "cell_type": "code",
   "execution_count": 29,
   "metadata": {},
   "outputs": [
    {
     "name": "stderr",
     "output_type": "stream",
     "text": [
      "Building prefix dict from C:\\Users\\user\\PycharmProjects\\MLDemo1\\dict.txt.big ...\n",
      "Loading model from cache C:\\Users\\user\\AppData\\Local\\Temp\\jieba.u1d26fb170b1408873e0250faa96804c8.cache\n",
      "Loading model cost 1.151 seconds.\n",
      "Prefix dict has been built successfully.\n"
     ]
    },
    {
     "data": {
      "text/plain": [
       "'台灣 援贈 新加坡 口罩 ， 新加坡 總理 李顯龍 夫人 何晶 臉書 轉發 相關 報導 ， 還 發文 「 Errrr ... （ 呃 ... ） 」 一度 引起 熱議 ， 但 她 已 修改 這段 謎樣 文字 ， 對 來自 台灣 的 協助 表示感謝 。 \\n \\n 外交部 日前 宣布 啟動 第二 波 援助 需要 口罩 的 國家 ， 對象 包含 新 南向 政策 國家 ， 新加坡 也 在 名單 內 ， 但 李顯龍 的 夫人 何晶 11 日 在 臉書 轉發 相關 報導 ， 還 發文 「 Errrr ... （ 呃 ... ） 」 引起 熱議 。'"
      ]
     },
     "execution_count": 29,
     "metadata": {},
     "output_type": "execute_result"
    }
   ],
   "source": [
    "import jieba\n",
    "import os\n",
    "from urllib.request import urlretrieve\n",
    "\n",
    "if not os.path.exists(\"dict.txt.big\"):\n",
    "    print(\"載入辭典\")\n",
    "    url = \"https://github.com/fxsjy/jieba/raw/master/extra_dict/dict.txt.big\"\n",
    "    urlretrieve(url, \"dict.txt.big\")\n",
    "    \n",
    "with open(\"news.txt\", \"r\", encoding=\"utf-8\") as f:\n",
    "    news = f.read()\n",
    "    \n",
    "jieba.set_dictionary(\"dict.txt.big\")\n",
    "jieba.load_userdict(\"politics_dict.txt\")\n",
    "\" \".join(jieba.cut(news))"
   ]
  },
  {
   "cell_type": "code",
   "execution_count": 30,
   "metadata": {},
   "outputs": [
    {
     "data": {
      "text/plain": [
       "['...',\n",
       " '台灣',\n",
       " '李顯龍',\n",
       " '何晶',\n",
       " '臉書',\n",
       " '轉發',\n",
       " '相關',\n",
       " '報導',\n",
       " '發文',\n",
       " 'Errrr',\n",
       " '熱議',\n",
       " '國家',\n",
       " '新加坡',\n",
       " '口罩',\n",
       " '夫人',\n",
       " '援贈',\n",
       " '總理',\n",
       " '這段',\n",
       " '謎樣',\n",
       " '來自']"
      ]
     },
     "execution_count": 30,
     "metadata": {},
     "output_type": "execute_result"
    }
   ],
   "source": [
    "from jieba.analyse import extract_tags\n",
    "extract_tags(news)"
   ]
  },
  {
   "cell_type": "code",
   "execution_count": null,
   "metadata": {},
   "outputs": [],
   "source": []
  },
  {
   "cell_type": "code",
   "execution_count": null,
   "metadata": {},
   "outputs": [],
   "source": []
  }
 ],
 "metadata": {
  "kernelspec": {
   "display_name": "Python 3",
   "language": "python",
   "name": "python3"
  },
  "language_info": {
   "codemirror_mode": {
    "name": "ipython",
    "version": 3
   },
   "file_extension": ".py",
   "mimetype": "text/x-python",
   "name": "python",
   "nbconvert_exporter": "python",
   "pygments_lexer": "ipython3",
   "version": "3.7.7"
  }
 },
 "nbformat": 4,
 "nbformat_minor": 4
}
