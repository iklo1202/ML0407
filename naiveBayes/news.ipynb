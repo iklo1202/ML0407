{
 "cells": [
  {
   "cell_type": "code",
   "execution_count": 1,
   "metadata": {},
   "outputs": [],
   "source": [
    "import os\n",
    "import glob\n",
    "import pandas as pd\n",
    "def get_data(dn):\n",
    "    data = {\n",
    "        \"news\":[],\n",
    "        \"ans\":[]\n",
    "    }\n",
    "    \n",
    "    dirs = glob.glob(os.path.join(dn, \"*\"))\n",
    "    for d in dirs:\n",
    "        pat = os.path.join(d, \"*.[tT][xX][tT]\")\n",
    "        fs = glob.glob(pat)\n",
    "        for fp in fs:\n",
    "            with open(fp, \"r\", encoding=\"utf-8\") as f:\n",
    "                news = f.read()\n",
    "            ans = os.path.split(d)[-1]\n",
    "            data[\"news\"].append(news)\n",
    "            data[\"ans\"].append(ans)\n",
    "    df = pd.DataFrame(data, columns={\"news\", \"ans\"})\n",
    "    return df"
   ]
  },
  {
   "cell_type": "code",
   "execution_count": 2,
   "metadata": {},
   "outputs": [
    {
     "data": {
      "text/html": [
       "<div>\n",
       "<style scoped>\n",
       "    .dataframe tbody tr th:only-of-type {\n",
       "        vertical-align: middle;\n",
       "    }\n",
       "\n",
       "    .dataframe tbody tr th {\n",
       "        vertical-align: top;\n",
       "    }\n",
       "\n",
       "    .dataframe thead th {\n",
       "        text-align: right;\n",
       "    }\n",
       "</style>\n",
       "<table border=\"1\" class=\"dataframe\">\n",
       "  <thead>\n",
       "    <tr style=\"text-align: right;\">\n",
       "      <th></th>\n",
       "      <th>news</th>\n",
       "      <th>ans</th>\n",
       "    </tr>\n",
       "  </thead>\n",
       "  <tbody>\n",
       "    <tr>\n",
       "      <th>0</th>\n",
       "      <td>日月光華 -- Traffic_Info精華區文章閱讀\\n-----------------...</td>\n",
       "      <td>交通</td>\n",
       "    </tr>\n",
       "    <tr>\n",
       "      <th>1</th>\n",
       "      <td>日月光華 -- Traffic_Info精華區文章閱讀\\n-----------------...</td>\n",
       "      <td>交通</td>\n",
       "    </tr>\n",
       "    <tr>\n",
       "      <th>2</th>\n",
       "      <td>日月光華 -- Traffic_Info精華區文章閱讀\\n-----------------...</td>\n",
       "      <td>交通</td>\n",
       "    </tr>\n",
       "    <tr>\n",
       "      <th>3</th>\n",
       "      <td>三趟火車停開 乘客可全額退票 \\n瀏覽次數：1180 \\n    昨日，來自鐵路部門的消息說...</td>\n",
       "      <td>交通</td>\n",
       "    </tr>\n",
       "    <tr>\n",
       "      <th>4</th>\n",
       "      <td>日月光華 -- Traffic_Info精華區文章閱讀\\n-----------------...</td>\n",
       "      <td>交通</td>\n",
       "    </tr>\n",
       "    <tr>\n",
       "      <th>...</th>\n",
       "      <td>...</td>\n",
       "      <td>...</td>\n",
       "    </tr>\n",
       "    <tr>\n",
       "      <th>96</th>\n",
       "      <td>最優秀選手無緣亞運會健美賽\\n \\n　 \\n    健美在亞洲運動會上是“新生兒”——韓國釜...</td>\n",
       "      <td>體育</td>\n",
       "    </tr>\n",
       "    <tr>\n",
       "      <th>97</th>\n",
       "      <td>\\n各國記者眼中的羽毛球世錦賽\\n \\n\\n-----------------------...</td>\n",
       "      <td>體育</td>\n",
       "    </tr>\n",
       "    <tr>\n",
       "      <th>98</th>\n",
       "      <td>\\n友好運動會第五天 東道主選手大顯神威\\n2001年09月03日02:51:40 新華社 ...</td>\n",
       "      <td>體育</td>\n",
       "    </tr>\n",
       "    <tr>\n",
       "      <th>99</th>\n",
       "      <td>不靠技術比運氣\\n\\n　　第二屆奧運會在巴黎舉行，同時這裡也正在舉行國際博覽會，東道主把一些...</td>\n",
       "      <td>體育</td>\n",
       "    </tr>\n",
       "    <tr>\n",
       "      <th>100</th>\n",
       "      <td>帆 板 運 動 簡 介（二）\\n\\n　　我國在79年由國家體委青島航海運動學校成功試製出第一...</td>\n",
       "      <td>體育</td>\n",
       "    </tr>\n",
       "  </tbody>\n",
       "</table>\n",
       "<p>101 rows × 2 columns</p>\n",
       "</div>"
      ],
      "text/plain": [
       "                                                  news ans\n",
       "0    日月光華 -- Traffic_Info精華區文章閱讀\\n-----------------...  交通\n",
       "1    日月光華 -- Traffic_Info精華區文章閱讀\\n-----------------...  交通\n",
       "2    日月光華 -- Traffic_Info精華區文章閱讀\\n-----------------...  交通\n",
       "3    三趟火車停開 乘客可全額退票 \\n瀏覽次數：1180 \\n    昨日，來自鐵路部門的消息說...  交通\n",
       "4    日月光華 -- Traffic_Info精華區文章閱讀\\n-----------------...  交通\n",
       "..                                                 ...  ..\n",
       "96   最優秀選手無緣亞運會健美賽\\n \\n　 \\n    健美在亞洲運動會上是“新生兒”——韓國釜...  體育\n",
       "97    \\n各國記者眼中的羽毛球世錦賽\\n \\n\\n-----------------------...  體育\n",
       "98   \\n友好運動會第五天 東道主選手大顯神威\\n2001年09月03日02:51:40 新華社 ...  體育\n",
       "99   不靠技術比運氣\\n\\n　　第二屆奧運會在巴黎舉行，同時這裡也正在舉行國際博覽會，東道主把一些...  體育\n",
       "100  帆 板 運 動 簡 介（二）\\n\\n　　我國在79年由國家體委青島航海運動學校成功試製出第一...  體育\n",
       "\n",
       "[101 rows x 2 columns]"
      ]
     },
     "execution_count": 2,
     "metadata": {},
     "output_type": "execute_result"
    }
   ],
   "source": [
    "train_df = get_data(\"chinese_news_trans\")\n",
    "test_df = get_data(\"chinese_news_test\")\n",
    "test_df"
   ]
  },
  {
   "cell_type": "code",
   "execution_count": 3,
   "metadata": {},
   "outputs": [
    {
     "data": {
      "text/plain": [
       "{0: '交通',\n",
       " 1: '政治',\n",
       " 2: '教育',\n",
       " 3: '環境',\n",
       " 4: '經濟',\n",
       " 5: '藝術',\n",
       " 6: '計算機',\n",
       " 7: '軍事',\n",
       " 8: '醫藥',\n",
       " 9: '體育'}"
      ]
     },
     "execution_count": 3,
     "metadata": {},
     "output_type": "execute_result"
    }
   ],
   "source": [
    "# 準備答案的對照\n",
    "\n",
    "#unique value_counts\n",
    "kind = train_df[\"ans\"].unique()\n",
    "trans = {k:i for i, k in enumerate(kind)}\n",
    "reverse_trans = {k:v for v,k in trans.items()}\n",
    "reverse_trans"
   ]
  },
  {
   "cell_type": "code",
   "execution_count": 4,
   "metadata": {
    "scrolled": true
   },
   "outputs": [
    {
     "data": {
      "text/plain": [
       "0      0\n",
       "1      0\n",
       "2      0\n",
       "3      0\n",
       "4      0\n",
       "      ..\n",
       "96     9\n",
       "97     9\n",
       "98     9\n",
       "99     9\n",
       "100    9\n",
       "Name: ans, Length: 101, dtype: int64"
      ]
     },
     "execution_count": 4,
     "metadata": {},
     "output_type": "execute_result"
    }
   ],
   "source": [
    "# 準備答案\n",
    "y_train = train_df[\"ans\"].replace(trans)\n",
    "y_test = test_df[\"ans\"].replace(trans)\n",
    "y_test"
   ]
  },
  {
   "cell_type": "code",
   "execution_count": 6,
   "metadata": {},
   "outputs": [],
   "source": [
    "# 下載大字典\n",
    "import os\n",
    "import jieba\n",
    "from urllib.request import urlretrieve\n",
    "\n",
    "if not os.path.exists(\"dict.txt.big\"):\n",
    "    print(\"[1st time] 下載大辭典\")\n",
    "    url = \"https://github.com/fxsjy/jieba/raw/master/extra_dict/dict.txt.big\"\n",
    "    urlretrieve(url, \"dict.txt.big\")\n",
    "jieba.set_dictionary(\"dict.txt.big\")\n"
   ]
  },
  {
   "cell_type": "code",
   "execution_count": 7,
   "metadata": {},
   "outputs": [
    {
     "name": "stderr",
     "output_type": "stream",
     "text": [
      "Building prefix dict from C:\\Users\\user\\PycharmProjects\\MLDemo1\\dict.txt.big ...\n",
      "Loading model from cache C:\\Users\\user\\AppData\\Local\\Temp\\jieba.u1d26fb170b1408873e0250faa96804c8.cache\n",
      "Loading model cost 1.162 seconds.\n",
      "Prefix dict has been built successfully.\n"
     ]
    },
    {
     "data": {
      "text/plain": [
       "0      日月 光華   --   Traffic _ Info 精華區 文章 閱讀  -------...\n",
       "1      日月 光華   --   Traffic _ Info 精華區 文章 閱讀  -------...\n",
       "2      日月 光華   --   Traffic _ Info 精華區 文章 閱讀  -------...\n",
       "3      三趟 火車 停開   乘客 可 全額 退票    瀏覽 次數 ： 1180         ...\n",
       "4      日月 光華   --   Traffic _ Info 精華區 文章 閱讀  -------...\n",
       "                             ...                        \n",
       "96     最 優秀 選手 無緣 亞運會 健美 賽     　            健美 在 亞洲 運...\n",
       "97        各國 記者 眼中 的 羽毛球 世錦賽      -------------------...\n",
       "98      友好 運動會 第五天   東道主 選手 大顯神威  2001 年 09 月 03 日 02...\n",
       "99     不靠 技術 比 運氣   　 　 第二屆 奧運會 在 巴黎 舉行 ， 同時 這裡 也 正在 ...\n",
       "100    帆   板   運   動   簡   介 （ 二 ）   　 　 我國 在 79 年 由 ...\n",
       "Name: news, Length: 101, dtype: object"
      ]
     },
     "execution_count": 7,
     "metadata": {},
     "output_type": "execute_result"
    }
   ],
   "source": [
    "\n",
    "def newscut(s):\n",
    "    s = \" \".join(jieba.cut(s))\n",
    "    s = s.replace(\"\\r\", \"\").replace(\"\\n\", \"\")\n",
    "    return s\n",
    "train = train_df[\"news\"].apply(newscut)\n",
    "test = test_df[\"news\"].apply(newscut)\n",
    "test"
   ]
  },
  {
   "cell_type": "code",
   "execution_count": 8,
   "metadata": {},
   "outputs": [],
   "source": [
    "# 計算次數\n",
    "from sklearn.feature_extraction.text import CountVectorizer\n",
    "vec = CountVectorizer()\n",
    "x_train = vec.fit_transform(train)\n",
    "x_test = vec.transform(test)"
   ]
  },
  {
   "cell_type": "code",
   "execution_count": 9,
   "metadata": {},
   "outputs": [
    {
     "data": {
      "text/plain": [
       "<101x76399 sparse matrix of type '<class 'numpy.int64'>'\n",
       "\twith 27152 stored elements in Compressed Sparse Row format>"
      ]
     },
     "execution_count": 9,
     "metadata": {},
     "output_type": "execute_result"
    }
   ],
   "source": [
    "x_test"
   ]
  },
  {
   "cell_type": "code",
   "execution_count": 10,
   "metadata": {},
   "outputs": [
    {
     "data": {
      "text/plain": [
       "MultinomialNB(alpha=1.0, class_prior=None, fit_prior=True)"
      ]
     },
     "execution_count": 10,
     "metadata": {},
     "output_type": "execute_result"
    }
   ],
   "source": [
    "from sklearn.naive_bayes import MultinomialNB\n",
    "clf = MultinomialNB()\n",
    "clf.fit(x_train, y_train)"
   ]
  },
  {
   "cell_type": "code",
   "execution_count": 11,
   "metadata": {},
   "outputs": [
    {
     "data": {
      "text/plain": [
       "1.0"
      ]
     },
     "execution_count": 11,
     "metadata": {},
     "output_type": "execute_result"
    }
   ],
   "source": [
    "from sklearn.metrics import accuracy_score\n",
    "pre = clf.predict(x_test)\n",
    "accuracy_score(pre, y_test)"
   ]
  },
  {
   "cell_type": "code",
   "execution_count": 12,
   "metadata": {},
   "outputs": [
    {
     "data": {
      "text/html": [
       "<div>\n",
       "<style scoped>\n",
       "    .dataframe tbody tr th:only-of-type {\n",
       "        vertical-align: middle;\n",
       "    }\n",
       "\n",
       "    .dataframe tbody tr th {\n",
       "        vertical-align: top;\n",
       "    }\n",
       "\n",
       "    .dataframe thead th {\n",
       "        text-align: right;\n",
       "    }\n",
       "</style>\n",
       "<table border=\"1\" class=\"dataframe\">\n",
       "  <thead>\n",
       "    <tr style=\"text-align: right;\">\n",
       "      <th></th>\n",
       "      <th>交通(預測)</th>\n",
       "      <th>政治(預測)</th>\n",
       "      <th>教育(預測)</th>\n",
       "      <th>環境(預測)</th>\n",
       "      <th>經濟(預測)</th>\n",
       "      <th>藝術(預測)</th>\n",
       "      <th>計算機(預測)</th>\n",
       "      <th>軍事(預測)</th>\n",
       "      <th>醫藥(預測)</th>\n",
       "      <th>體育(預測)</th>\n",
       "    </tr>\n",
       "  </thead>\n",
       "  <tbody>\n",
       "    <tr>\n",
       "      <th>交通(正確)</th>\n",
       "      <td>10</td>\n",
       "      <td>0</td>\n",
       "      <td>0</td>\n",
       "      <td>0</td>\n",
       "      <td>0</td>\n",
       "      <td>0</td>\n",
       "      <td>0</td>\n",
       "      <td>0</td>\n",
       "      <td>0</td>\n",
       "      <td>0</td>\n",
       "    </tr>\n",
       "    <tr>\n",
       "      <th>政治(正確)</th>\n",
       "      <td>0</td>\n",
       "      <td>11</td>\n",
       "      <td>0</td>\n",
       "      <td>0</td>\n",
       "      <td>0</td>\n",
       "      <td>0</td>\n",
       "      <td>0</td>\n",
       "      <td>0</td>\n",
       "      <td>0</td>\n",
       "      <td>0</td>\n",
       "    </tr>\n",
       "    <tr>\n",
       "      <th>教育(正確)</th>\n",
       "      <td>0</td>\n",
       "      <td>0</td>\n",
       "      <td>10</td>\n",
       "      <td>0</td>\n",
       "      <td>0</td>\n",
       "      <td>0</td>\n",
       "      <td>0</td>\n",
       "      <td>0</td>\n",
       "      <td>0</td>\n",
       "      <td>0</td>\n",
       "    </tr>\n",
       "    <tr>\n",
       "      <th>環境(正確)</th>\n",
       "      <td>0</td>\n",
       "      <td>0</td>\n",
       "      <td>0</td>\n",
       "      <td>10</td>\n",
       "      <td>0</td>\n",
       "      <td>0</td>\n",
       "      <td>0</td>\n",
       "      <td>0</td>\n",
       "      <td>0</td>\n",
       "      <td>0</td>\n",
       "    </tr>\n",
       "    <tr>\n",
       "      <th>經濟(正確)</th>\n",
       "      <td>0</td>\n",
       "      <td>0</td>\n",
       "      <td>0</td>\n",
       "      <td>0</td>\n",
       "      <td>10</td>\n",
       "      <td>0</td>\n",
       "      <td>0</td>\n",
       "      <td>0</td>\n",
       "      <td>0</td>\n",
       "      <td>0</td>\n",
       "    </tr>\n",
       "    <tr>\n",
       "      <th>藝術(正確)</th>\n",
       "      <td>0</td>\n",
       "      <td>0</td>\n",
       "      <td>0</td>\n",
       "      <td>0</td>\n",
       "      <td>0</td>\n",
       "      <td>10</td>\n",
       "      <td>0</td>\n",
       "      <td>0</td>\n",
       "      <td>0</td>\n",
       "      <td>0</td>\n",
       "    </tr>\n",
       "    <tr>\n",
       "      <th>計算機(正確)</th>\n",
       "      <td>0</td>\n",
       "      <td>0</td>\n",
       "      <td>0</td>\n",
       "      <td>0</td>\n",
       "      <td>0</td>\n",
       "      <td>0</td>\n",
       "      <td>10</td>\n",
       "      <td>0</td>\n",
       "      <td>0</td>\n",
       "      <td>0</td>\n",
       "    </tr>\n",
       "    <tr>\n",
       "      <th>軍事(正確)</th>\n",
       "      <td>0</td>\n",
       "      <td>0</td>\n",
       "      <td>0</td>\n",
       "      <td>0</td>\n",
       "      <td>0</td>\n",
       "      <td>0</td>\n",
       "      <td>0</td>\n",
       "      <td>10</td>\n",
       "      <td>0</td>\n",
       "      <td>0</td>\n",
       "    </tr>\n",
       "    <tr>\n",
       "      <th>醫藥(正確)</th>\n",
       "      <td>0</td>\n",
       "      <td>0</td>\n",
       "      <td>0</td>\n",
       "      <td>0</td>\n",
       "      <td>0</td>\n",
       "      <td>0</td>\n",
       "      <td>0</td>\n",
       "      <td>0</td>\n",
       "      <td>10</td>\n",
       "      <td>0</td>\n",
       "    </tr>\n",
       "    <tr>\n",
       "      <th>體育(正確)</th>\n",
       "      <td>0</td>\n",
       "      <td>0</td>\n",
       "      <td>0</td>\n",
       "      <td>0</td>\n",
       "      <td>0</td>\n",
       "      <td>0</td>\n",
       "      <td>0</td>\n",
       "      <td>0</td>\n",
       "      <td>0</td>\n",
       "      <td>10</td>\n",
       "    </tr>\n",
       "  </tbody>\n",
       "</table>\n",
       "</div>"
      ],
      "text/plain": [
       "         交通(預測)  政治(預測)  教育(預測)  環境(預測)  經濟(預測)  藝術(預測)  計算機(預測)  軍事(預測)  \\\n",
       "交通(正確)       10       0       0       0       0       0        0       0   \n",
       "政治(正確)        0      11       0       0       0       0        0       0   \n",
       "教育(正確)        0       0      10       0       0       0        0       0   \n",
       "環境(正確)        0       0       0      10       0       0        0       0   \n",
       "經濟(正確)        0       0       0       0      10       0        0       0   \n",
       "藝術(正確)        0       0       0       0       0      10        0       0   \n",
       "計算機(正確)       0       0       0       0       0       0       10       0   \n",
       "軍事(正確)        0       0       0       0       0       0        0      10   \n",
       "醫藥(正確)        0       0       0       0       0       0        0       0   \n",
       "體育(正確)        0       0       0       0       0       0        0       0   \n",
       "\n",
       "         醫藥(預測)  體育(預測)  \n",
       "交通(正確)        0       0  \n",
       "政治(正確)        0       0  \n",
       "教育(正確)        0       0  \n",
       "環境(正確)        0       0  \n",
       "經濟(正確)        0       0  \n",
       "藝術(正確)        0       0  \n",
       "計算機(正確)       0       0  \n",
       "軍事(正確)        0       0  \n",
       "醫藥(正確)       10       0  \n",
       "體育(正確)        0      10  "
      ]
     },
     "execution_count": 12,
     "metadata": {},
     "output_type": "execute_result"
    }
   ],
   "source": [
    "from sklearn.metrics import confusion_matrix\n",
    "mat = confusion_matrix(y_test, pre)\n",
    "ori = [k for k in trans.keys()]\n",
    "ori\n",
    "c = [\"{}(預測)\".format(s) for s in ori]\n",
    "i = [\"{}(正確)\".format(s) for s in ori]\n",
    "pd.DataFrame(mat,\n",
    "             columns=c,\n",
    "             index=i)"
   ]
  },
  {
   "cell_type": "code",
   "execution_count": 25,
   "metadata": {},
   "outputs": [
    {
     "name": "stdout",
     "output_type": "stream",
     "text": [
      "請輸入新聞:新冠肺炎疫情衝擊，美國總統川普說自己有絕對權力決定何時撤銷禁足令。對此，紐約州長古莫質疑，「絕對權力」的說法違背憲法與民主觀念，強調美國不需要國王，他不會在危害全州人民健康的情況下重啟經濟。 (特約記者戚海倫報導)     紐約州長古莫說，他無意槓上川普，也願意與川普合作，「如果他想打架，我不會隨之起舞，因為我們眼前有艱鉅的挑戰、需要攜手面對。」     紐約州是美國這次疫情的重災區，全美有超過2萬7000人確診死亡，而紐約州就佔了1萬8000人。紐約州長古莫今天表示，根據住院患者總數和重症患者數據減少看來，他們認為疫情已經達到高峰。     對抗疫情和重啟經濟的時機考驗著美國。古莫昨天和美東其他六州的州長宣布，研議區域經濟重啟方案，避免操之過急導致疫情再起，美西包括加州在內有3個州也宣布，將協調重啟經濟，這一共10個州的州長有9人是民主黨籍。     不過總統川普宣稱，聯邦政府有權推翻州長下達的居家防疫命令，他說有絕對權力來主導重啟美國經濟。\n",
      "新聞的種類: 經濟\n",
      "體育 : 0.0 %\n",
      "醫藥 : 0.0 %\n",
      "藝術 : 0.0 %\n",
      "交通 : 0.0 %\n",
      "教育 : 0.0 %\n",
      "計算機 : 0.0 %\n",
      "環境 : 0.0 %\n",
      "軍事 : 0.0 %\n",
      "政治 : 0.24 %\n",
      "經濟 : 99.76 %\n"
     ]
    }
   ],
   "source": [
    "s = input(\"請輸入新聞:\")\n",
    "test = vec.transform([newscut(s)])\n",
    "pre = clf.predict(test)[0]\n",
    "ans = reverse_trans[pre]\n",
    "print(\"新聞的種類:\", ans)\n",
    "\n",
    "proba = clf.predict_proba(test)[0]\n",
    "\n",
    "proba = list(enumerate(proba))\n",
    "proba\n",
    "\n",
    "for i, prob in sorted(proba, key=lambda x:x[1]):\n",
    "    print(reverse_trans[i], \":\", round(prob*100, 2), \"%\")"
   ]
  },
  {
   "cell_type": "code",
   "execution_count": 14,
   "metadata": {},
   "outputs": [
    {
     "data": {
      "text/plain": [
       "[(1, 4), (2, 5), (3, 6)]"
      ]
     },
     "execution_count": 14,
     "metadata": {},
     "output_type": "execute_result"
    }
   ],
   "source": [
    "list(zip([1, 2, 3],\n",
    "    [4, 5, 6]))"
   ]
  },
  {
   "cell_type": "code",
   "execution_count": null,
   "metadata": {},
   "outputs": [],
   "source": [
    "sorted([(3, \"a\"), ()])"
   ]
  }
 ],
 "metadata": {
  "kernelspec": {
   "display_name": "Python 3",
   "language": "python",
   "name": "python3"
  },
  "language_info": {
   "codemirror_mode": {
    "name": "ipython",
    "version": 3
   },
   "file_extension": ".py",
   "mimetype": "text/x-python",
   "name": "python",
   "nbconvert_exporter": "python",
   "pygments_lexer": "ipython3",
   "version": "3.7.7"
  }
 },
 "nbformat": 4,
 "nbformat_minor": 4
}
